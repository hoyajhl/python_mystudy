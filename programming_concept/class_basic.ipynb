{
 "cells": [
  {
   "cell_type": "markdown",
   "id": "512e131d",
   "metadata": {},
   "source": [
    "## class, object \n",
    "#### 실제로 존재하는 object (객체)"
   ]
  },
  {
   "cell_type": "markdown",
   "id": "5786c9c5",
   "metadata": {},
   "source": [
    "#### class\n",
    "-attribute (속성)과 method(동작)을 갖는 데이터 타입\n",
    "-다루고자 하는 데이터와 데이터 다루는 함수를 하나로 encapuslation해서 클래스로 표현 "
   ]
  },
  {
   "cell_type": "markdown",
   "id": "7fdf7339",
   "metadata": {},
   "source": [
    "#### object\n",
    "-클래스로 생성되어 구체화된 객체 (인스턴스)"
   ]
  },
  {
   "cell_type": "markdown",
   "id": "51d3d713",
   "metadata": {},
   "source": [
    "####  _init_(self)\n",
    "-생성자, 클래스 인스터가 생성될 때 호출\n",
    "-self 인자는 항상 자기 자신을 가리킴"
   ]
  },
  {
   "cell_type": "code",
   "execution_count": 12,
   "id": "098f0543",
   "metadata": {},
   "outputs": [],
   "source": [
    "class Person: \n",
    "    def _init_(self):\n",
    "        print(self,'is generated')\n",
    "        self.name=\"kate\"\n",
    "        self.age=10"
   ]
  },
  {
   "cell_type": "code",
   "execution_count": 14,
   "id": "f645cdd6",
   "metadata": {},
   "outputs": [
    {
     "name": "stdout",
     "output_type": "stream",
     "text": [
      "jaeho 20\n"
     ]
    }
   ],
   "source": [
    "p1=Person()\n",
    "p2=Person()\n",
    "p1.name='jaeho'\n",
    "p1.age=20\n",
    "\n",
    "print(p1.name,p1.age)"
   ]
  },
  {
   "cell_type": "code",
   "execution_count": 38,
   "id": "4abb8fe5",
   "metadata": {},
   "outputs": [],
   "source": [
    "##동적인 예\n",
    "class person: \n",
    "    def __init__(self,name,age):\n",
    "        self.name=name\n",
    "        self.age=age\n",
    "    def sleep(self):\n",
    "        print(self.name,'은 잠을 잡니다')"
   ]
  },
  {
   "cell_type": "code",
   "execution_count": 39,
   "id": "51ff87ce",
   "metadata": {},
   "outputs": [],
   "source": [
    "p1=person(\"hoya\",12)"
   ]
  },
  {
   "cell_type": "code",
   "execution_count": 40,
   "id": "bab22734",
   "metadata": {
    "scrolled": true
   },
   "outputs": [
    {
     "name": "stdout",
     "output_type": "stream",
     "text": [
      "hoya 은 잠을 잡니다\n"
     ]
    }
   ],
   "source": [
    "p1.sleep()"
   ]
  },
  {
   "cell_type": "markdown",
   "id": "1c071b1f",
   "metadata": {},
   "source": [
    "### 상속 (Inheritance)\n",
    "##### 다른 클래스의 맴버 변수와 메소를 물려 받아 사용하는 기법\n",
    "##### 부모와 자식 관계가 존재\n",
    "##### 자식 클래스: 부모 클래스를 상속 받은 클래스"
   ]
  },
  {
   "cell_type": "code",
   "execution_count": 58,
   "id": "7c6ee8eb",
   "metadata": {},
   "outputs": [],
   "source": [
    "## EX1\n",
    "class Unit:\n",
    "    def __init__(self,name,power):\n",
    "        self.name=name\n",
    "        self.power=power\n",
    "    def attack(self):\n",
    "        print(self.name, \"이 공격을 수행합니다. 전투력:\",self.power)\n",
    "        "
   ]
  },
  {
   "cell_type": "code",
   "execution_count": 59,
   "id": "049392b6",
   "metadata": {},
   "outputs": [
    {
     "name": "stdout",
     "output_type": "stream",
     "text": [
      "홍길동 이 공격을 수행합니다. 전투력: 375\n"
     ]
    }
   ],
   "source": [
    "unit=Unit(\"홍길동\",375)\n",
    "unit.attack()"
   ]
  },
  {
   "cell_type": "code",
   "execution_count": 60,
   "id": "29f7c939",
   "metadata": {},
   "outputs": [],
   "source": [
    "## 상속 (inheritance) 자식 클래스 활용\n",
    "class Monster(Unit):\n",
    "    def __init__(self,name,power,type):\n",
    "        self.name=name\n",
    "        self.power=power\n",
    "        self.type=type "
   ]
  },
  {
   "cell_type": "code",
   "execution_count": 61,
   "id": "7eed0f55",
   "metadata": {},
   "outputs": [
    {
     "name": "stdout",
     "output_type": "stream",
     "text": [
      "호야 이 공격을 수행합니다. 전투력: 50\n"
     ]
    }
   ],
   "source": [
    "monster=Monster(\"호야\",50,\"초급\")\n",
    "monster.attack()"
   ]
  },
  {
   "cell_type": "code",
   "execution_count": 62,
   "id": "7bc89b38",
   "metadata": {},
   "outputs": [],
   "source": [
    "## EX2\n",
    "## 부모 클래스\n",
    "class Person:\n",
    "    def __init__(self, name, age):\n",
    "        self.name = name\n",
    "        self.age = age\n",
    "        \n",
    "    def eat(self, food):\n",
    "        print('{}은 {}를 먹습니다.'.format(self.name, food))\n",
    "    \n",
    "    def sleep(self, minute):\n",
    "        print('{}은 {}분동안 잡니다.'.format(self.name, minute))\n",
    "    \n",
    "    def work(self, minute):\n",
    "        print('{}은 {}분동안 일합니다.'.format(self.name, minute))\n",
    "##자식 클래스\n",
    "class Student(Person):\n",
    "    def __init__(self, name, age):\n",
    "        self.name = name\n",
    "        self.age = age\n",
    "##자식 클래스    \n",
    "class Employee(Person):\n",
    "    def __init__(self, name, age):\n",
    "        self.name = name\n",
    "        self.age = age"
   ]
  },
  {
   "cell_type": "code",
   "execution_count": 64,
   "id": "a390bd8e",
   "metadata": {},
   "outputs": [
    {
     "name": "stdout",
     "output_type": "stream",
     "text": [
      "jaeho은 pizza를 먹습니다.\n",
      "jaeho은 20분동안 잡니다.\n",
      "jaeho은 70분동안 일합니다.\n"
     ]
    }
   ],
   "source": [
    "bob = Employee('jaeho', 25)\n",
    "bob.eat('pizza')\n",
    "bob.sleep(20)\n",
    "bob.work(70)"
   ]
  },
  {
   "cell_type": "markdown",
   "id": "e40b037d",
   "metadata": {},
   "source": [
    "### Method overide "
   ]
  },
  {
   "cell_type": "code",
   "execution_count": 65,
   "id": "596a0df7",
   "metadata": {},
   "outputs": [],
   "source": [
    "class Person:\n",
    "    def __init__(self, name, age):\n",
    "        self.name = name\n",
    "        self.age = age\n",
    "        \n",
    "    def eat(self, food):\n",
    "        print('{}은 {}를 먹습니다.'.format(self.name, food))\n",
    "    \n",
    "    def sleep(self, minute):\n",
    "        print('{}은 {}분동안 잡니다.'.format(self.name, minute))\n",
    "    \n",
    "    def work(self, minute):\n",
    "        print('{}은 {}분동안 일합니다.'.format(self.name, minute))\n",
    "\n",
    "class Student(Person):\n",
    "    def __init__(self, name, age):\n",
    "        self.name = name\n",
    "        self.age = age\n",
    "        \n",
    "    def work(self, minute):\n",
    "        print('{}은 {}분동안 공부합니다.'.format(self.name, minute))\n",
    "        \n",
    "class Employee(Person):\n",
    "    def __init__(self, name, age):\n",
    "        self.name = name\n",
    "        self.age = age\n",
    "        \n",
    "    def work(self, minute):\n",
    "        print('{}은 {}분동안 업무를 합니다.'.format(self.name, minute))"
   ]
  },
  {
   "cell_type": "code",
   "execution_count": 67,
   "id": "a74adaa5",
   "metadata": {},
   "outputs": [
    {
     "name": "stdout",
     "output_type": "stream",
     "text": [
      "hoya은 pizza를 먹습니다.\n",
      "hoya은 30분동안 잡니다.\n",
      "hoya은 60분동안 업무를 합니다.\n"
     ]
    }
   ],
   "source": [
    "hoya= Employee('hoya', 25)\n",
    "hoya.eat('pizza')\n",
    "hoya.sleep(30)\n",
    "hoya.work(60)"
   ]
  },
  {
   "cell_type": "markdown",
   "id": "bc8745cb",
   "metadata": {},
   "source": [
    "### super\n",
    "##### 하위 클래스에서 부모클래스의 method를 호출할 때 사용:)"
   ]
  },
  {
   "cell_type": "code",
   "execution_count": 69,
   "id": "0a340b89",
   "metadata": {},
   "outputs": [
    {
     "name": "stdout",
     "output_type": "stream",
     "text": [
      "hoya은 pizza를 먹습니다.\n",
      "hoya은 40분동안 잡니다.\n",
      "hoya은 10분동안 준비를 합니다.\n",
      "hoya은 10분동안 업무를 합니다.\n"
     ]
    }
   ],
   "source": [
    "class Person:\n",
    "    def __init__(self, name, age):\n",
    "        self.name = name\n",
    "        self.age = age\n",
    "        \n",
    "    def eat(self, food):\n",
    "        print('{}은 {}를 먹습니다.'.format(self.name, food))\n",
    "    \n",
    "    def sleep(self, minute):\n",
    "        print('{}은 {}분동안 잡니다.'.format(self.name, minute))\n",
    "    \n",
    "    def work(self, minute):\n",
    "        print('{}은 {}분동안 준비를 합니다.'.format(self.name, minute))\n",
    "\n",
    "class Student(Person):\n",
    "    def __init__(self, name, age):\n",
    "        self.name = name\n",
    "        self.age = age\n",
    "        \n",
    "    def work(self, minute):\n",
    "        super().work(minute)\n",
    "        print('{}은 {}분동안 공부합니다.'.format(self.name, minute))\n",
    "        \n",
    "class Employee(Person):\n",
    "    def __init__(self, name, age):\n",
    "        self.name = name\n",
    "        self.age = age\n",
    "        \n",
    "    def work(self, minute):\n",
    "        super().work(minute) ## 부모 클래스의 method를 호출 \n",
    "        print('{}은 {}분동안 업무를 합니다.'.format(self.name, minute))\n",
    "        \n",
    "hoya= Employee('hoya', 27)\n",
    "hoya.eat('pizza')\n",
    "hoya.sleep(40)\n",
    "hoya.work(10)"
   ]
  }
 ],
 "metadata": {
  "kernelspec": {
   "display_name": "Python 3",
   "language": "python",
   "name": "python3"
  },
  "language_info": {
   "codemirror_mode": {
    "name": "ipython",
    "version": 3
   },
   "file_extension": ".py",
   "mimetype": "text/x-python",
   "name": "python",
   "nbconvert_exporter": "python",
   "pygments_lexer": "ipython3",
   "version": "3.8.8"
  }
 },
 "nbformat": 4,
 "nbformat_minor": 5
}
